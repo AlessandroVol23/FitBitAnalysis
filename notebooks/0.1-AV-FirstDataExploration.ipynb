{
 "cells": [
  {
   "cell_type": "code",
   "execution_count": 1,
   "metadata": {},
   "outputs": [],
   "source": [
    "import pandas as pd\n",
    "import numpy as np\n",
    "import matplotlib.pyplot as plt"
   ]
  },
  {
   "cell_type": "code",
   "execution_count": 2,
   "metadata": {},
   "outputs": [
    {
     "data": {
      "text/plain": [
       "Index(['Id', 'ActivityDate', 'TotalSteps', 'TotalDistance', 'TrackerDistance',\n",
       "       'LoggedActivitiesDistance', 'VeryActiveDistance',\n",
       "       'ModeratelyActiveDistance', 'LightActiveDistance',\n",
       "       'SedentaryActiveDistance', 'VeryActiveMinutes', 'FairlyActiveMinutes',\n",
       "       'LightlyActiveMinutes', 'SedentaryMinutes', 'Calories'],\n",
       "      dtype='object')"
      ]
     },
     "execution_count": 2,
     "metadata": {},
     "output_type": "execute_result"
    }
   ],
   "source": [
    "# read original data\n",
    "path_to_data= \"../data/raw/MTurkData/mturkfitbit_export_4.12.16-5.12.16/Fitabase Data 4.12.16-5.12.16/dailyActivity_merged.csv\"\n",
    "fitbit_4_12_16_daily_activity = pd.read_csv(path_to_data)\n",
    "fitbit_4_12_16_daily_activity.columns"
   ]
  },
  {
   "cell_type": "markdown",
   "metadata": {},
   "source": [
    "First I just try to fit a model on steps -> calories"
   ]
  },
  {
   "cell_type": "code",
   "execution_count": 3,
   "metadata": {},
   "outputs": [
    {
     "data": {
      "text/plain": [
       "count      940.000000\n",
       "mean      7637.910638\n",
       "std       5087.150742\n",
       "min          0.000000\n",
       "25%       3789.750000\n",
       "50%       7405.500000\n",
       "75%      10727.000000\n",
       "max      36019.000000\n",
       "Name: TotalSteps, dtype: float64"
      ]
     },
     "execution_count": 3,
     "metadata": {},
     "output_type": "execute_result"
    }
   ],
   "source": [
    "steps = fitbit_4_12_16_daily_activity[\"TotalSteps\"]\n",
    "steps.describe()"
   ]
  },
  {
   "cell_type": "code",
   "execution_count": 4,
   "metadata": {},
   "outputs": [
    {
     "data": {
      "text/plain": [
       "count     940.000000\n",
       "mean     2303.609574\n",
       "std       718.166862\n",
       "min         0.000000\n",
       "25%      1828.500000\n",
       "50%      2134.000000\n",
       "75%      2793.250000\n",
       "max      4900.000000\n",
       "Name: Calories, dtype: float64"
      ]
     },
     "execution_count": 4,
     "metadata": {},
     "output_type": "execute_result"
    }
   ],
   "source": [
    "calories = fitbit_4_12_16_daily_activity[\"Calories\"]\n",
    "calories.describe()"
   ]
  },
  {
   "cell_type": "code",
   "execution_count": 5,
   "metadata": {},
   "outputs": [
    {
     "data": {
      "text/html": [
       "<div>\n",
       "<style scoped>\n",
       "    .dataframe tbody tr th:only-of-type {\n",
       "        vertical-align: middle;\n",
       "    }\n",
       "\n",
       "    .dataframe tbody tr th {\n",
       "        vertical-align: top;\n",
       "    }\n",
       "\n",
       "    .dataframe thead th {\n",
       "        text-align: right;\n",
       "    }\n",
       "</style>\n",
       "<table border=\"1\" class=\"dataframe\">\n",
       "  <thead>\n",
       "    <tr style=\"text-align: right;\">\n",
       "      <th></th>\n",
       "      <th>Id</th>\n",
       "      <th>TotalSteps</th>\n",
       "      <th>Calories</th>\n",
       "    </tr>\n",
       "  </thead>\n",
       "  <tbody>\n",
       "    <tr>\n",
       "      <th>count</th>\n",
       "      <td>9.400000e+02</td>\n",
       "      <td>940.000000</td>\n",
       "      <td>940.000000</td>\n",
       "    </tr>\n",
       "    <tr>\n",
       "      <th>mean</th>\n",
       "      <td>4.855407e+09</td>\n",
       "      <td>7637.910638</td>\n",
       "      <td>2303.609574</td>\n",
       "    </tr>\n",
       "    <tr>\n",
       "      <th>std</th>\n",
       "      <td>2.424805e+09</td>\n",
       "      <td>5087.150742</td>\n",
       "      <td>718.166862</td>\n",
       "    </tr>\n",
       "    <tr>\n",
       "      <th>min</th>\n",
       "      <td>1.503960e+09</td>\n",
       "      <td>0.000000</td>\n",
       "      <td>0.000000</td>\n",
       "    </tr>\n",
       "    <tr>\n",
       "      <th>25%</th>\n",
       "      <td>2.320127e+09</td>\n",
       "      <td>3789.750000</td>\n",
       "      <td>1828.500000</td>\n",
       "    </tr>\n",
       "    <tr>\n",
       "      <th>50%</th>\n",
       "      <td>4.445115e+09</td>\n",
       "      <td>7405.500000</td>\n",
       "      <td>2134.000000</td>\n",
       "    </tr>\n",
       "    <tr>\n",
       "      <th>75%</th>\n",
       "      <td>6.962181e+09</td>\n",
       "      <td>10727.000000</td>\n",
       "      <td>2793.250000</td>\n",
       "    </tr>\n",
       "    <tr>\n",
       "      <th>max</th>\n",
       "      <td>8.877689e+09</td>\n",
       "      <td>36019.000000</td>\n",
       "      <td>4900.000000</td>\n",
       "    </tr>\n",
       "  </tbody>\n",
       "</table>\n",
       "</div>"
      ],
      "text/plain": [
       "                 Id    TotalSteps     Calories\n",
       "count  9.400000e+02    940.000000   940.000000\n",
       "mean   4.855407e+09   7637.910638  2303.609574\n",
       "std    2.424805e+09   5087.150742   718.166862\n",
       "min    1.503960e+09      0.000000     0.000000\n",
       "25%    2.320127e+09   3789.750000  1828.500000\n",
       "50%    4.445115e+09   7405.500000  2134.000000\n",
       "75%    6.962181e+09  10727.000000  2793.250000\n",
       "max    8.877689e+09  36019.000000  4900.000000"
      ]
     },
     "execution_count": 5,
     "metadata": {},
     "output_type": "execute_result"
    }
   ],
   "source": [
    "fitbit_id_steps_calories = pd.concat([fitbit_4_12_16_daily_activity[\"Id\"], \n",
    "           fitbit_4_12_16_daily_activity[\"TotalSteps\"], \n",
    "           fitbit_4_12_16_daily_activity[\"Calories\"]],\n",
    "        axis=1)\n",
    "fitbit_id_steps_calories.describe()"
   ]
  },
  {
   "cell_type": "code",
   "execution_count": 6,
   "metadata": {},
   "outputs": [
    {
     "data": {
      "text/html": [
       "<div>\n",
       "<style scoped>\n",
       "    .dataframe tbody tr th:only-of-type {\n",
       "        vertical-align: middle;\n",
       "    }\n",
       "\n",
       "    .dataframe tbody tr th {\n",
       "        vertical-align: top;\n",
       "    }\n",
       "\n",
       "    .dataframe thead th {\n",
       "        text-align: right;\n",
       "    }\n",
       "</style>\n",
       "<table border=\"1\" class=\"dataframe\">\n",
       "  <thead>\n",
       "    <tr style=\"text-align: right;\">\n",
       "      <th></th>\n",
       "      <th>TotalSteps</th>\n",
       "      <th>Calories</th>\n",
       "    </tr>\n",
       "    <tr>\n",
       "      <th>Id</th>\n",
       "      <th></th>\n",
       "      <th></th>\n",
       "    </tr>\n",
       "  </thead>\n",
       "  <tbody>\n",
       "    <tr>\n",
       "      <th>1503960366</th>\n",
       "      <td>12116.741935</td>\n",
       "      <td>1816.419355</td>\n",
       "    </tr>\n",
       "    <tr>\n",
       "      <th>1624580081</th>\n",
       "      <td>5743.903226</td>\n",
       "      <td>1483.354839</td>\n",
       "    </tr>\n",
       "    <tr>\n",
       "      <th>1644430081</th>\n",
       "      <td>7282.966667</td>\n",
       "      <td>2811.300000</td>\n",
       "    </tr>\n",
       "    <tr>\n",
       "      <th>1844505072</th>\n",
       "      <td>2580.064516</td>\n",
       "      <td>1573.483871</td>\n",
       "    </tr>\n",
       "    <tr>\n",
       "      <th>1927972279</th>\n",
       "      <td>916.129032</td>\n",
       "      <td>2172.806452</td>\n",
       "    </tr>\n",
       "    <tr>\n",
       "      <th>2022484408</th>\n",
       "      <td>11370.645161</td>\n",
       "      <td>2509.967742</td>\n",
       "    </tr>\n",
       "    <tr>\n",
       "      <th>2026352035</th>\n",
       "      <td>5566.870968</td>\n",
       "      <td>1540.645161</td>\n",
       "    </tr>\n",
       "    <tr>\n",
       "      <th>2320127002</th>\n",
       "      <td>4716.870968</td>\n",
       "      <td>1724.161290</td>\n",
       "    </tr>\n",
       "    <tr>\n",
       "      <th>2347167796</th>\n",
       "      <td>9519.666667</td>\n",
       "      <td>2043.444444</td>\n",
       "    </tr>\n",
       "    <tr>\n",
       "      <th>2873212765</th>\n",
       "      <td>7555.774194</td>\n",
       "      <td>1916.967742</td>\n",
       "    </tr>\n",
       "    <tr>\n",
       "      <th>3372868164</th>\n",
       "      <td>6861.650000</td>\n",
       "      <td>1933.100000</td>\n",
       "    </tr>\n",
       "    <tr>\n",
       "      <th>3977333714</th>\n",
       "      <td>10984.566667</td>\n",
       "      <td>1513.666667</td>\n",
       "    </tr>\n",
       "    <tr>\n",
       "      <th>4020332650</th>\n",
       "      <td>2267.225806</td>\n",
       "      <td>2385.806452</td>\n",
       "    </tr>\n",
       "    <tr>\n",
       "      <th>4057192912</th>\n",
       "      <td>3838.000000</td>\n",
       "      <td>1973.750000</td>\n",
       "    </tr>\n",
       "    <tr>\n",
       "      <th>4319703577</th>\n",
       "      <td>7268.838710</td>\n",
       "      <td>2037.677419</td>\n",
       "    </tr>\n",
       "    <tr>\n",
       "      <th>4388161847</th>\n",
       "      <td>10813.935484</td>\n",
       "      <td>3093.870968</td>\n",
       "    </tr>\n",
       "    <tr>\n",
       "      <th>4445114986</th>\n",
       "      <td>4796.548387</td>\n",
       "      <td>2186.193548</td>\n",
       "    </tr>\n",
       "    <tr>\n",
       "      <th>4558609924</th>\n",
       "      <td>7685.129032</td>\n",
       "      <td>2033.258065</td>\n",
       "    </tr>\n",
       "    <tr>\n",
       "      <th>4702921684</th>\n",
       "      <td>8572.064516</td>\n",
       "      <td>2965.548387</td>\n",
       "    </tr>\n",
       "    <tr>\n",
       "      <th>5553957443</th>\n",
       "      <td>8612.580645</td>\n",
       "      <td>1875.677419</td>\n",
       "    </tr>\n",
       "    <tr>\n",
       "      <th>5577150313</th>\n",
       "      <td>8304.433333</td>\n",
       "      <td>3359.633333</td>\n",
       "    </tr>\n",
       "    <tr>\n",
       "      <th>6117666160</th>\n",
       "      <td>7046.714286</td>\n",
       "      <td>2261.142857</td>\n",
       "    </tr>\n",
       "    <tr>\n",
       "      <th>6290855005</th>\n",
       "      <td>5649.551724</td>\n",
       "      <td>2599.620690</td>\n",
       "    </tr>\n",
       "    <tr>\n",
       "      <th>6775888955</th>\n",
       "      <td>2519.692308</td>\n",
       "      <td>2131.769231</td>\n",
       "    </tr>\n",
       "    <tr>\n",
       "      <th>6962181067</th>\n",
       "      <td>9794.806452</td>\n",
       "      <td>1982.032258</td>\n",
       "    </tr>\n",
       "    <tr>\n",
       "      <th>7007744171</th>\n",
       "      <td>11323.423077</td>\n",
       "      <td>2544.000000</td>\n",
       "    </tr>\n",
       "    <tr>\n",
       "      <th>7086361926</th>\n",
       "      <td>9371.774194</td>\n",
       "      <td>2566.354839</td>\n",
       "    </tr>\n",
       "    <tr>\n",
       "      <th>8053475328</th>\n",
       "      <td>14763.290323</td>\n",
       "      <td>2945.806452</td>\n",
       "    </tr>\n",
       "    <tr>\n",
       "      <th>8253242879</th>\n",
       "      <td>6482.157895</td>\n",
       "      <td>1788.000000</td>\n",
       "    </tr>\n",
       "    <tr>\n",
       "      <th>8378563200</th>\n",
       "      <td>8717.709677</td>\n",
       "      <td>3436.580645</td>\n",
       "    </tr>\n",
       "    <tr>\n",
       "      <th>8583815059</th>\n",
       "      <td>7198.516129</td>\n",
       "      <td>2732.032258</td>\n",
       "    </tr>\n",
       "    <tr>\n",
       "      <th>8792009665</th>\n",
       "      <td>1853.724138</td>\n",
       "      <td>1962.310345</td>\n",
       "    </tr>\n",
       "    <tr>\n",
       "      <th>8877689391</th>\n",
       "      <td>16040.032258</td>\n",
       "      <td>3420.258065</td>\n",
       "    </tr>\n",
       "  </tbody>\n",
       "</table>\n",
       "</div>"
      ],
      "text/plain": [
       "              TotalSteps     Calories\n",
       "Id                                   \n",
       "1503960366  12116.741935  1816.419355\n",
       "1624580081   5743.903226  1483.354839\n",
       "1644430081   7282.966667  2811.300000\n",
       "1844505072   2580.064516  1573.483871\n",
       "1927972279    916.129032  2172.806452\n",
       "2022484408  11370.645161  2509.967742\n",
       "2026352035   5566.870968  1540.645161\n",
       "2320127002   4716.870968  1724.161290\n",
       "2347167796   9519.666667  2043.444444\n",
       "2873212765   7555.774194  1916.967742\n",
       "3372868164   6861.650000  1933.100000\n",
       "3977333714  10984.566667  1513.666667\n",
       "4020332650   2267.225806  2385.806452\n",
       "4057192912   3838.000000  1973.750000\n",
       "4319703577   7268.838710  2037.677419\n",
       "4388161847  10813.935484  3093.870968\n",
       "4445114986   4796.548387  2186.193548\n",
       "4558609924   7685.129032  2033.258065\n",
       "4702921684   8572.064516  2965.548387\n",
       "5553957443   8612.580645  1875.677419\n",
       "5577150313   8304.433333  3359.633333\n",
       "6117666160   7046.714286  2261.142857\n",
       "6290855005   5649.551724  2599.620690\n",
       "6775888955   2519.692308  2131.769231\n",
       "6962181067   9794.806452  1982.032258\n",
       "7007744171  11323.423077  2544.000000\n",
       "7086361926   9371.774194  2566.354839\n",
       "8053475328  14763.290323  2945.806452\n",
       "8253242879   6482.157895  1788.000000\n",
       "8378563200   8717.709677  3436.580645\n",
       "8583815059   7198.516129  2732.032258\n",
       "8792009665   1853.724138  1962.310345\n",
       "8877689391  16040.032258  3420.258065"
      ]
     },
     "execution_count": 6,
     "metadata": {},
     "output_type": "execute_result"
    }
   ],
   "source": [
    "pd.DataFrame(fitbit_id_steps_calories.groupby(\"Id\").mean())"
   ]
  },
  {
   "cell_type": "code",
   "execution_count": 7,
   "metadata": {},
   "outputs": [],
   "source": [
    "X_steps = fitbit_id_steps_calories[\"TotalSteps\"]\n",
    "y_calories = fitbit_id_steps_calories[\"Calories\"]"
   ]
  },
  {
   "cell_type": "code",
   "execution_count": 8,
   "metadata": {},
   "outputs": [
    {
     "data": {
      "image/png": "[encoded data removed]",
      "text/plain": [
       "<Figure size 432x288 with 1 Axes>"
      ]
     },
     "metadata": {},
     "output_type": "display_data"
    }
   ],
   "source": [
    "# Plot the data on a scatter plot\n",
    "plt.scatter(X_steps, y_calories);"
   ]
  },
  {
   "cell_type": "code",
   "execution_count": 19,
   "metadata": {},
   "outputs": [],
   "source": [
    "from sklearn.model_selection import train_test_split\n",
    "Xtrain, Xtest, ytrain, ytest = train_test_split(X_steps, y_calories, random_state=1)"
   ]
  },
  {
   "cell_type": "code",
   "execution_count": 10,
   "metadata": {},
   "outputs": [
    {
     "data": {
      "text/plain": [
       "(705,)"
      ]
     },
     "execution_count": 10,
     "metadata": {},
     "output_type": "execute_result"
    }
   ],
   "source": [
    "# Trying Linear Regression\n",
    "from sklearn.linear_model import LinearRegression\n",
    "model = LinearRegression(fit_intercept=True)\n",
    "Xtrain.shape"
   ]
  },
  {
   "cell_type": "code",
   "execution_count": 11,
   "metadata": {},
   "outputs": [
    {
     "data": {
      "text/plain": [
       "(705, 1)"
      ]
     },
     "execution_count": 11,
     "metadata": {},
     "output_type": "execute_result"
    }
   ],
   "source": [
    "# Adding a new axis to Xtrain\n",
    "Xtrain = Xtrain[:, np.newaxis]\n",
    "Xtrain.shape"
   ]
  },
  {
   "cell_type": "code",
   "execution_count": 12,
   "metadata": {},
   "outputs": [
    {
     "data": {
      "text/plain": [
       "LinearRegression(copy_X=True, fit_intercept=True, n_jobs=1, normalize=False)"
      ]
     },
     "execution_count": 12,
     "metadata": {},
     "output_type": "execute_result"
    }
   ],
   "source": [
    "model.fit(Xtrain, ytrain)"
   ]
  },
  {
   "cell_type": "code",
   "execution_count": 13,
   "metadata": {},
   "outputs": [],
   "source": [
    "Xtest = Xtest[:, np.newaxis]"
   ]
  },
  {
   "cell_type": "code",
   "execution_count": 14,
   "metadata": {},
   "outputs": [],
   "source": [
    "pred = model.predict(Xtest)"
   ]
  },
  {
   "cell_type": "code",
   "execution_count": 15,
   "metadata": {},
   "outputs": [
    {
     "data": {
      "image/png": "[encoded data removed]",
      "text/plain": [
       "<Figure size 432x288 with 1 Axes>"
      ]
     },
     "metadata": {},
     "output_type": "display_data"
    }
   ],
   "source": [
    "plt.scatter(X_steps, y_calories, alpha=0.2, color=\"gray\")\n",
    "plt.plot(Xtest, pred);"
   ]
  },
  {
   "cell_type": "markdown",
   "metadata": {},
   "source": [
    "Prediction test"
   ]
  },
  {
   "cell_type": "code",
   "execution_count": 16,
   "metadata": {},
   "outputs": [
    {
     "data": {
      "text/plain": [
       "array([2504.13644218])"
      ]
     },
     "execution_count": 16,
     "metadata": {},
     "output_type": "execute_result"
    }
   ],
   "source": [
    "model.predict(10000)"
   ]
  },
  {
   "cell_type": "markdown",
   "metadata": {},
   "source": [
    "## Accuracy"
   ]
  },
  {
   "cell_type": "code",
   "execution_count": 17,
   "metadata": {},
   "outputs": [
    {
     "name": "stdout",
     "output_type": "stream",
     "text": [
      "In averge your model is 459 calories +/- wrong\n"
     ]
    }
   ],
   "source": [
    "from sklearn.metrics import mean_absolute_error\n",
    "mae = mean_absolute_error(ytest, pred)\n",
    "print(\"In averge your model is {} calories +/- wrong\".format(int(mae)))"
   ]
  },
  {
   "cell_type": "code",
   "execution_count": 20,
   "metadata": {},
   "outputs": [
    {
     "data": {
      "text/plain": [
       "0.14716858432661103"
      ]
     },
     "execution_count": 20,
     "metadata": {},
     "output_type": "execute_result"
    }
   ],
   "source": [
    "from sklearn.metrics import mean_squared_log_error\n",
    "msle = mean_squared_log_error(ytest, pred)\n",
    "msle"
   ]
  }
 ],
 "metadata": {
  "kernelspec": {
   "display_name": "Python 3",
   "language": "python",
   "name": "python3"
  },
  "language_info": {
   "codemirror_mode": {
    "name": "ipython",
    "version": 3
   },
   "file_extension": ".py",
   "mimetype": "text/x-python",
   "name": "python",
   "nbconvert_exporter": "python",
   "pygments_lexer": "ipython3",
   "version": "3.6.5"
  }
 },
 "nbformat": 4,
 "nbformat_minor": 2
}
